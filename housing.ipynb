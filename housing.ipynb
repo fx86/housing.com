{
 "cells": [
  {
   "cell_type": "code",
   "execution_count": 2,
   "metadata": {
    "collapsed": true
   },
   "outputs": [],
   "source": [
    "import pandas as pd\n",
    "import seaborn as sns\n",
    "from matplotlib import pyplot as plt\n",
    "\n",
    "\n",
    "%matplotlib inline\n",
    "\n",
    "sns.set_style(\"whitegrid\")"
   ]
  },
  {
   "cell_type": "code",
   "execution_count": 3,
   "metadata": {
    "collapsed": false
   },
   "outputs": [
    {
     "name": "stderr",
     "output_type": "stream",
     "text": [
      "c:\\Users\\Fibinse\\Anaconda2\\lib\\site-packages\\IPython\\core\\interactiveshell.py:2717: DtypeWarning: Columns (6,15,17,19,20,21,22,23,24,25,26,28,29,30,31,32,33,34,35,37,38,39,40,41,42,43,44,46,47,48,49,50,51,52,55,56,57,58,59,60,61,64,65,66,67,68,69,70,74,126,127,128,143,144,164,166,168,169,170,171,172,173,174,175,177,178,179,180,181,182,183,184,186,187,188,189,190,191,192,193,195,196,197,198,199,200,201,204,205,206,207,208,209,210,213,214,215,216,217,218,219) have mixed types. Specify dtype option on import or set low_memory=False.\n",
      "  interactivity=interactivity, compiler=compiler, result=result)\n"
     ]
    }
   ],
   "source": [
    "df = pd.read_csv(\"housing.csv\", encoding=\"utf-8\")"
   ]
  },
  {
   "cell_type": "code",
   "execution_count": 4,
   "metadata": {
    "collapsed": false
   },
   "outputs": [
    {
     "data": {
      "text/html": [
       "<div>\n",
       "<table border=\"1\" class=\"dataframe\">\n",
       "  <thead>\n",
       "    <tr style=\"text-align: right;\">\n",
       "      <th></th>\n",
       "      <th>Unnamed: 0</th>\n",
       "      <th>_id</th>\n",
       "      <th>building_name</th>\n",
       "      <th>building_uuid</th>\n",
       "      <th>city_select_uuid</th>\n",
       "      <th>city_select_uuid_0</th>\n",
       "      <th>city_select_uuid_1</th>\n",
       "      <th>completion_date</th>\n",
       "      <th>contact_persons_info_0_chat_enabled</th>\n",
       "      <th>contact_persons_info_0_contact_person_id</th>\n",
       "      <th>...</th>\n",
       "      <th>sellers_info_6_seller_label</th>\n",
       "      <th>sellers_info_6_uuid</th>\n",
       "      <th>show_loan_option</th>\n",
       "      <th>slot_id</th>\n",
       "      <th>status</th>\n",
       "      <th>street_info</th>\n",
       "      <th>thumb_image_url</th>\n",
       "      <th>title</th>\n",
       "      <th>type</th>\n",
       "      <th>updated_at</th>\n",
       "    </tr>\n",
       "  </thead>\n",
       "  <tbody>\n",
       "    <tr>\n",
       "      <th>0</th>\n",
       "      <td>collection_ids</td>\n",
       "      <td>NaN</td>\n",
       "      <td>NaN</td>\n",
       "      <td>NaN</td>\n",
       "      <td>NaN</td>\n",
       "      <td>NaN</td>\n",
       "      <td>NaN</td>\n",
       "      <td>NaN</td>\n",
       "      <td>NaN</td>\n",
       "      <td>NaN</td>\n",
       "      <td>...</td>\n",
       "      <td>NaN</td>\n",
       "      <td>NaN</td>\n",
       "      <td>NaN</td>\n",
       "      <td>NaN</td>\n",
       "      <td>NaN</td>\n",
       "      <td>NaN</td>\n",
       "      <td>NaN</td>\n",
       "      <td>NaN</td>\n",
       "      <td>NaN</td>\n",
       "      <td>NaN</td>\n",
       "    </tr>\n",
       "    <tr>\n",
       "      <th>1</th>\n",
       "      <td>is_featured</td>\n",
       "      <td>NaN</td>\n",
       "      <td>NaN</td>\n",
       "      <td>NaN</td>\n",
       "      <td>NaN</td>\n",
       "      <td>NaN</td>\n",
       "      <td>NaN</td>\n",
       "      <td>NaN</td>\n",
       "      <td>NaN</td>\n",
       "      <td>NaN</td>\n",
       "      <td>...</td>\n",
       "      <td>NaN</td>\n",
       "      <td>NaN</td>\n",
       "      <td>NaN</td>\n",
       "      <td>NaN</td>\n",
       "      <td>NaN</td>\n",
       "      <td>NaN</td>\n",
       "      <td>NaN</td>\n",
       "      <td>NaN</td>\n",
       "      <td>NaN</td>\n",
       "      <td>NaN</td>\n",
       "    </tr>\n",
       "    <tr>\n",
       "      <th>2</th>\n",
       "      <td>is_uc_property</td>\n",
       "      <td>NaN</td>\n",
       "      <td>NaN</td>\n",
       "      <td>NaN</td>\n",
       "      <td>NaN</td>\n",
       "      <td>NaN</td>\n",
       "      <td>NaN</td>\n",
       "      <td>NaN</td>\n",
       "      <td>NaN</td>\n",
       "      <td>NaN</td>\n",
       "      <td>...</td>\n",
       "      <td>NaN</td>\n",
       "      <td>NaN</td>\n",
       "      <td>NaN</td>\n",
       "      <td>NaN</td>\n",
       "      <td>NaN</td>\n",
       "      <td>NaN</td>\n",
       "      <td>NaN</td>\n",
       "      <td>NaN</td>\n",
       "      <td>NaN</td>\n",
       "      <td>NaN</td>\n",
       "    </tr>\n",
       "    <tr>\n",
       "      <th>3</th>\n",
       "      <td>contact_persons_info</td>\n",
       "      <td>NaN</td>\n",
       "      <td>NaN</td>\n",
       "      <td>NaN</td>\n",
       "      <td>NaN</td>\n",
       "      <td>NaN</td>\n",
       "      <td>NaN</td>\n",
       "      <td>NaN</td>\n",
       "      <td>NaN</td>\n",
       "      <td>NaN</td>\n",
       "      <td>...</td>\n",
       "      <td>NaN</td>\n",
       "      <td>NaN</td>\n",
       "      <td>NaN</td>\n",
       "      <td>NaN</td>\n",
       "      <td>NaN</td>\n",
       "      <td>NaN</td>\n",
       "      <td>NaN</td>\n",
       "      <td>NaN</td>\n",
       "      <td>NaN</td>\n",
       "      <td>NaN</td>\n",
       "    </tr>\n",
       "    <tr>\n",
       "      <th>4</th>\n",
       "      <td>formatted_min_price</td>\n",
       "      <td>NaN</td>\n",
       "      <td>NaN</td>\n",
       "      <td>NaN</td>\n",
       "      <td>NaN</td>\n",
       "      <td>NaN</td>\n",
       "      <td>NaN</td>\n",
       "      <td>NaN</td>\n",
       "      <td>NaN</td>\n",
       "      <td>NaN</td>\n",
       "      <td>...</td>\n",
       "      <td>NaN</td>\n",
       "      <td>NaN</td>\n",
       "      <td>NaN</td>\n",
       "      <td>NaN</td>\n",
       "      <td>NaN</td>\n",
       "      <td>NaN</td>\n",
       "      <td>NaN</td>\n",
       "      <td>NaN</td>\n",
       "      <td>NaN</td>\n",
       "      <td>NaN</td>\n",
       "    </tr>\n",
       "  </tbody>\n",
       "</table>\n",
       "<p>5 rows × 228 columns</p>\n",
       "</div>"
      ],
      "text/plain": [
       "             Unnamed: 0  _id building_name building_uuid  city_select_uuid  \\\n",
       "0        collection_ids  NaN           NaN           NaN               NaN   \n",
       "1           is_featured  NaN           NaN           NaN               NaN   \n",
       "2        is_uc_property  NaN           NaN           NaN               NaN   \n",
       "3  contact_persons_info  NaN           NaN           NaN               NaN   \n",
       "4   formatted_min_price  NaN           NaN           NaN               NaN   \n",
       "\n",
       "  city_select_uuid_0 city_select_uuid_1  completion_date  \\\n",
       "0                NaN                NaN              NaN   \n",
       "1                NaN                NaN              NaN   \n",
       "2                NaN                NaN              NaN   \n",
       "3                NaN                NaN              NaN   \n",
       "4                NaN                NaN              NaN   \n",
       "\n",
       "  contact_persons_info_0_chat_enabled  \\\n",
       "0                                 NaN   \n",
       "1                                 NaN   \n",
       "2                                 NaN   \n",
       "3                                 NaN   \n",
       "4                                 NaN   \n",
       "\n",
       "   contact_persons_info_0_contact_person_id    ...      \\\n",
       "0                                       NaN    ...       \n",
       "1                                       NaN    ...       \n",
       "2                                       NaN    ...       \n",
       "3                                       NaN    ...       \n",
       "4                                       NaN    ...       \n",
       "\n",
       "  sellers_info_6_seller_label sellers_info_6_uuid show_loan_option slot_id  \\\n",
       "0                         NaN                 NaN              NaN     NaN   \n",
       "1                         NaN                 NaN              NaN     NaN   \n",
       "2                         NaN                 NaN              NaN     NaN   \n",
       "3                         NaN                 NaN              NaN     NaN   \n",
       "4                         NaN                 NaN              NaN     NaN   \n",
       "\n",
       "  status street_info thumb_image_url title  type updated_at  \n",
       "0    NaN         NaN             NaN   NaN   NaN        NaN  \n",
       "1    NaN         NaN             NaN   NaN   NaN        NaN  \n",
       "2    NaN         NaN             NaN   NaN   NaN        NaN  \n",
       "3    NaN         NaN             NaN   NaN   NaN        NaN  \n",
       "4    NaN         NaN             NaN   NaN   NaN        NaN  \n",
       "\n",
       "[5 rows x 228 columns]"
      ]
     },
     "execution_count": 4,
     "metadata": {},
     "output_type": "execute_result"
    }
   ],
   "source": [
    "df.head()"
   ]
  },
  {
   "cell_type": "code",
   "execution_count": 7,
   "metadata": {
    "collapsed": false
   },
   "outputs": [
    {
     "ename": "ValueError",
     "evalue": "If using all scalar values, you must pass an index",
     "output_type": "error",
     "traceback": [
      "\u001b[0;31m---------------------------------------------------------------------------\u001b[0m",
      "\u001b[0;31mValueError\u001b[0m                                Traceback (most recent call last)",
      "\u001b[0;32m<ipython-input-7-2a90412bba1e>\u001b[0m in \u001b[0;36m<module>\u001b[0;34m()\u001b[0m\n\u001b[0;32m----> 1\u001b[0;31m \u001b[0mdf\u001b[0m \u001b[1;33m=\u001b[0m \u001b[0mpd\u001b[0m\u001b[1;33m.\u001b[0m\u001b[0mDataFrame\u001b[0m\u001b[1;33m(\u001b[0m\u001b[1;33m{\u001b[0m\u001b[1;34mu'inventory_configs_0_apartment_type_id'\u001b[0m\u001b[1;33m:\u001b[0m \u001b[1;36m4\u001b[0m\u001b[1;33m,\u001b[0m \u001b[1;34mu'polygons_hash_h_district_name'\u001b[0m\u001b[1;33m:\u001b[0m \u001b[0mNone\u001b[0m\u001b[1;33m,\u001b[0m \u001b[1;34mu'parking_count'\u001b[0m\u001b[1;33m:\u001b[0m \u001b[1;36m1\u001b[0m\u001b[1;33m,\u001b[0m \u001b[1;34mu'polygons_hash_state_uuid'\u001b[0m\u001b[1;33m:\u001b[0m \u001b[1;34mu'82b2a9c2e9b437c9ffdc'\u001b[0m\u001b[1;33m,\u001b[0m \u001b[1;34mu'inventory_configs_0_property_type_id'\u001b[0m\u001b[1;33m:\u001b[0m \u001b[1;36m1\u001b[0m\u001b[1;33m,\u001b[0m \u001b[1;34mu'sellers_info_0_is_blocked'\u001b[0m\u001b[1;33m:\u001b[0m \u001b[0mFalse\u001b[0m\u001b[1;33m,\u001b[0m \u001b[1;34mu'title'\u001b[0m\u001b[1;33m:\u001b[0m \u001b[1;34mu'3 BHK Apartment'\u001b[0m\u001b[1;33m,\u001b[0m \u001b[1;34mu'contact_persons_info_0_chat_enabled'\u001b[0m\u001b[1;33m:\u001b[0m \u001b[0mNone\u001b[0m\u001b[1;33m,\u001b[0m \u001b[1;34mu'polygons_hash_housing_region_uuid'\u001b[0m\u001b[1;33m:\u001b[0m \u001b[1;34mu'd135fb588e8bb80e1fa2'\u001b[0m\u001b[1;33m,\u001b[0m \u001b[1;34mu'polygons_hash_neighbourhood_name'\u001b[0m\u001b[1;33m:\u001b[0m \u001b[0mNone\u001b[0m\u001b[1;33m,\u001b[0m \u001b[1;34mu'contact_persons_info_0_profile_picture_url'\u001b[0m\u001b[1;33m:\u001b[0m \u001b[1;34mu'https://housing.com/mystery-man.png'\u001b[0m\u001b[1;33m,\u001b[0m \u001b[1;34mu'min_price'\u001b[0m\u001b[1;33m:\u001b[0m \u001b[1;36m31400000\u001b[0m\u001b[1;33m,\u001b[0m \u001b[1;34mu'contact_persons_info_0_is_blocked'\u001b[0m\u001b[1;33m:\u001b[0m \u001b[0mFalse\u001b[0m\u001b[1;33m,\u001b[0m \u001b[1;34mu'inventory_configs_0_completion_date'\u001b[0m\u001b[1;33m:\u001b[0m \u001b[1;36m1425578517\u001b[0m\u001b[1;33m,\u001b[0m \u001b[1;34mu'inventory_configs_0_seller_0'\u001b[0m\u001b[1;33m:\u001b[0m \u001b[1;36m1\u001b[0m\u001b[1;33m,\u001b[0m \u001b[1;34mu'inventory_configs_0_area'\u001b[0m\u001b[1;33m:\u001b[0m \u001b[1;36m1850\u001b[0m\u001b[1;33m,\u001b[0m \u001b[1;34mu'sellers_info_0_name'\u001b[0m\u001b[1;33m:\u001b[0m \u001b[1;34mu'Shamim'\u001b[0m\u001b[1;33m,\u001b[0m \u001b[1;34mu'date_added'\u001b[0m\u001b[1;33m:\u001b[0m \u001b[1;34mu'2016-03-04T23:31:57Z'\u001b[0m\u001b[1;33m,\u001b[0m \u001b[1;34mu'inventory_configs_0_number_of_bedrooms'\u001b[0m\u001b[1;33m:\u001b[0m \u001b[1;36m3\u001b[0m\u001b[1;33m,\u001b[0m \u001b[1;34mu'sellers_info_0_contact_person_id'\u001b[0m\u001b[1;33m:\u001b[0m \u001b[1;36m1\u001b[0m\u001b[1;33m,\u001b[0m \u001b[1;34mu'sellers_info_0_profile_uuid'\u001b[0m\u001b[1;33m:\u001b[0m \u001b[1;34mu'1deaa223-bbbd-4fa9-9ed9-aa4bab7484bb'\u001b[0m\u001b[1;33m,\u001b[0m \u001b[1;34mu'polygons_hash_city_uuid'\u001b[0m\u001b[1;33m:\u001b[0m \u001b[1;34mu'1ca99c33e3d8b987ccf1'\u001b[0m\u001b[1;33m,\u001b[0m \u001b[1;34mu'display_locality_1'\u001b[0m\u001b[1;33m:\u001b[0m \u001b[1;34mu'Andheri East'\u001b[0m\u001b[1;33m,\u001b[0m \u001b[1;34mu'display_locality_0'\u001b[0m\u001b[1;33m:\u001b[0m \u001b[1;34mu'Koldongri'\u001b[0m\u001b[1;33m,\u001b[0m \u001b[1;34mu'formatted_min_price'\u001b[0m\u001b[1;33m:\u001b[0m \u001b[1;34mu'3.14 Cr'\u001b[0m\u001b[1;33m,\u001b[0m \u001b[1;34mu'inventory_canonical_url'\u001b[0m\u001b[1;33m:\u001b[0m \u001b[1;34mu'/in/buy/resale/page/801351-3-bhk-apartment-in-andheri-east-for-rs-31400000'\u001b[0m\u001b[1;33m,\u001b[0m \u001b[1;34mu'completion_date'\u001b[0m\u001b[1;33m:\u001b[0m \u001b[1;36m1425578517\u001b[0m\u001b[1;33m,\u001b[0m \u001b[1;34mu'impressions'\u001b[0m\u001b[1;33m:\u001b[0m \u001b[1;36m507\u001b[0m\u001b[1;33m,\u001b[0m \u001b[1;34mu'inventory_amenities_has_gym'\u001b[0m\u001b[1;33m:\u001b[0m \u001b[0mTrue\u001b[0m\u001b[1;33m,\u001b[0m \u001b[1;34mu'building_name'\u001b[0m\u001b[1;33m:\u001b[0m \u001b[1;34mu'Shivam Centrium'\u001b[0m\u001b[1;33m,\u001b[0m \u001b[1;34mu'price_on_request'\u001b[0m\u001b[1;33m:\u001b[0m \u001b[0mFalse\u001b[0m\u001b[1;33m,\u001b[0m \u001b[1;34mu'display_neighbourhood_0'\u001b[0m\u001b[1;33m:\u001b[0m \u001b[1;34mu'Andheri East'\u001b[0m\u001b[1;33m,\u001b[0m \u001b[1;34mu'display_neighbourhood_1'\u001b[0m\u001b[1;33m:\u001b[0m \u001b[1;34mu'Koldongri'\u001b[0m\u001b[1;33m,\u001b[0m \u001b[1;34mu'inventory_configs_0_price'\u001b[0m\u001b[1;33m:\u001b[0m \u001b[1;36m31400000\u001b[0m\u001b[1;33m,\u001b[0m \u001b[1;34mu'formatted_per_sqft_rate'\u001b[0m\u001b[1;33m:\u001b[0m \u001b[1;34mu'16.97 k'\u001b[0m\u001b[1;33m,\u001b[0m \u001b[1;34mu'inventory_amenities_has_gas_pipeline'\u001b[0m\u001b[1;33m:\u001b[0m \u001b[0mTrue\u001b[0m\u001b[1;33m,\u001b[0m \u001b[1;34mu'polygons_hash_city_name'\u001b[0m\u001b[1;33m:\u001b[0m \u001b[1;34mu'Mumbai'\u001b[0m\u001b[1;33m,\u001b[0m \u001b[1;34mu'inventory_configs_0_number_of_toilets'\u001b[0m\u001b[1;33m:\u001b[0m \u001b[1;36m3\u001b[0m\u001b[1;33m,\u001b[0m \u001b[1;34mu'is_blocked'\u001b[0m\u001b[1;33m:\u001b[0m \u001b[0mFalse\u001b[0m\u001b[1;33m,\u001b[0m \u001b[1;34mu'polygons_hash_housing_state_name'\u001b[0m\u001b[1;33m:\u001b[0m \u001b[0mNone\u001b[0m\u001b[1;33m,\u001b[0m \u001b[1;34mu'is_ad_property'\u001b[0m\u001b[1;33m:\u001b[0m \u001b[0mNone\u001b[0m\u001b[1;33m,\u001b[0m \u001b[1;34mu'inventory_configs_0_flat_config_id'\u001b[0m\u001b[1;33m:\u001b[0m \u001b[1;36m801351\u001b[0m\u001b[1;33m,\u001b[0m \u001b[1;34mu'sellers_info_0_profile_picture_url'\u001b[0m\u001b[1;33m:\u001b[0m \u001b[1;34mu'https://housing.com/mystery-man.png'\u001b[0m\u001b[1;33m,\u001b[0m \u001b[1;34mu'polygons_hash_housing_state_uuid'\u001b[0m\u001b[1;33m:\u001b[0m \u001b[0mNone\u001b[0m\u001b[1;33m,\u001b[0m \u001b[1;34mu'polygons_hash_state_name'\u001b[0m\u001b[1;33m:\u001b[0m \u001b[1;34mu'Maharashtra'\u001b[0m\u001b[1;33m,\u001b[0m \u001b[1;34mu'is_featured'\u001b[0m\u001b[1;33m:\u001b[0m \u001b[0mFalse\u001b[0m\u001b[1;33m,\u001b[0m \u001b[1;34mu'is_uc_property'\u001b[0m\u001b[1;33m:\u001b[0m \u001b[0mFalse\u001b[0m\u001b[1;33m,\u001b[0m \u001b[1;34mu'sellers_info_0_profile_url'\u001b[0m\u001b[1;33m:\u001b[0m \u001b[1;34mu'1180304_shamim'\u001b[0m\u001b[1;33m,\u001b[0m \u001b[1;34mu'building_uuid'\u001b[0m\u001b[1;33m:\u001b[0m \u001b[1;34mu'31ebb4a552'\u001b[0m\u001b[1;33m,\u001b[0m \u001b[1;34mu'polygons_hash_region_uuid'\u001b[0m\u001b[1;33m:\u001b[0m \u001b[1;34mu'7318a08bb6570a26e893'\u001b[0m\u001b[1;33m,\u001b[0m \u001b[1;34mu'date_added_in_seconds'\u001b[0m\u001b[1;33m:\u001b[0m \u001b[1;36m1457114517.294\u001b[0m\u001b[1;33m,\u001b[0m \u001b[1;34mu'thumb_image_url'\u001b[0m\u001b[1;33m:\u001b[0m \u001b[1;34mu'https://is1-3.housingcdn.com/01c16c28/7e99a9651a8a14f421b3a16f341ca69c/v2/version.jpg'\u001b[0m\u001b[1;33m,\u001b[0m \u001b[1;34mu'city_select_uuid_0'\u001b[0m\u001b[1;33m:\u001b[0m \u001b[1;34mu'a0fd32816f73961748cf'\u001b[0m\u001b[1;33m,\u001b[0m \u001b[1;34mu'inventory_configs_0_per_sqft_rate'\u001b[0m\u001b[1;33m:\u001b[0m \u001b[1;36m16972\u001b[0m\u001b[1;33m,\u001b[0m \u001b[1;34mu'contact_persons_info_0_profile_uuid'\u001b[0m\u001b[1;33m:\u001b[0m \u001b[1;34mu'1deaa223-bbbd-4fa9-9ed9-aa4bab7484bb'\u001b[0m\u001b[1;33m,\u001b[0m \u001b[1;34mu'inventory_configs_0_parking_count'\u001b[0m\u001b[1;33m:\u001b[0m \u001b[1;36m1\u001b[0m\u001b[1;33m,\u001b[0m \u001b[1;34mu'formatted_price'\u001b[0m\u001b[1;33m:\u001b[0m \u001b[1;34mu'3.14 Cr'\u001b[0m\u001b[1;33m,\u001b[0m \u001b[1;34mu'show_loan_option'\u001b[0m\u001b[1;33m:\u001b[0m \u001b[0mTrue\u001b[0m\u001b[1;33m,\u001b[0m \u001b[1;34mu'type'\u001b[0m\u001b[1;33m:\u001b[0m \u001b[1;34mu'resale'\u001b[0m\u001b[1;33m,\u001b[0m \u001b[1;34mu'inventory_configs_0_id'\u001b[0m\u001b[1;33m:\u001b[0m \u001b[1;36m801351\u001b[0m\u001b[1;33m,\u001b[0m \u001b[1;34mu'contact_persons_info_0_profile_url'\u001b[0m\u001b[1;33m:\u001b[0m \u001b[1;34mu'1180304_shamim'\u001b[0m\u001b[1;33m,\u001b[0m \u001b[1;34mu'polygon_uuids_4'\u001b[0m\u001b[1;33m:\u001b[0m \u001b[1;34mu'c81936bdf7593bb711dc'\u001b[0m\u001b[1;33m,\u001b[0m \u001b[1;34mu'inventory_configs_0_is_available'\u001b[0m\u001b[1;33m:\u001b[0m \u001b[0mTrue\u001b[0m\u001b[1;33m,\u001b[0m \u001b[1;34mu'inventory_configs_0_price_on_request'\u001b[0m\u001b[1;33m:\u001b[0m \u001b[0mFalse\u001b[0m\u001b[1;33m,\u001b[0m \u001b[1;34mu'contact_persons_info_0_uuid'\u001b[0m\u001b[1;33m:\u001b[0m \u001b[1;34mu'1deaa223-bbbd-4fa9-9ed9-aa4bab7484bb'\u001b[0m\u001b[1;33m,\u001b[0m \u001b[1;34mu'inventory_amenities_has_lift'\u001b[0m\u001b[1;33m:\u001b[0m \u001b[0mTrue\u001b[0m\u001b[1;33m,\u001b[0m \u001b[1;34mu'polygons_hash_housing_region_name'\u001b[0m\u001b[1;33m:\u001b[0m \u001b[1;34mu'Western Suburbs'\u001b[0m\u001b[1;33m,\u001b[0m \u001b[1;34mu'ctr'\u001b[0m\u001b[1;33m:\u001b[0m \u001b[1;36m0.04\u001b[0m\u001b[1;33m,\u001b[0m \u001b[1;34mu'location_coordinates'\u001b[0m\u001b[1;33m:\u001b[0m \u001b[1;34mu'19.11288,72.848559'\u001b[0m\u001b[1;33m,\u001b[0m \u001b[1;34mu'inventory_configs_0_formatted_price'\u001b[0m\u001b[1;33m:\u001b[0m \u001b[1;34mu'3.14 Cr'\u001b[0m\u001b[1;33m,\u001b[0m \u001b[1;34mu'formatted_max_price'\u001b[0m\u001b[1;33m:\u001b[0m \u001b[1;34mu'3.14 Cr'\u001b[0m\u001b[1;33m,\u001b[0m \u001b[1;34mu'polygons_hash_region_name'\u001b[0m\u001b[1;33m:\u001b[0m \u001b[1;34mu'Mumbai Metropolitan Region'\u001b[0m\u001b[1;33m,\u001b[0m \u001b[1;34mu'polygons_hash_locality_uuid'\u001b[0m\u001b[1;33m:\u001b[0m \u001b[1;34mu'7d7e7ce92514320c5102'\u001b[0m\u001b[1;33m,\u001b[0m \u001b[1;34mu'polygons_hash_sublocality_uuid'\u001b[0m\u001b[1;33m:\u001b[0m \u001b[1;34mu'5f40a5d81efb8d0f3d07'\u001b[0m\u001b[1;33m,\u001b[0m \u001b[1;34mu'inventory_amenities_is_gated_community'\u001b[0m\u001b[1;33m:\u001b[0m \u001b[0mTrue\u001b[0m\u001b[1;33m,\u001b[0m \u001b[1;34mu'updated_at'\u001b[0m\u001b[1;33m:\u001b[0m \u001b[1;36m1488010088\u001b[0m\u001b[1;33m,\u001b[0m \u001b[1;34mu'street_info'\u001b[0m\u001b[1;33m:\u001b[0m \u001b[1;34mu'Sahar Road, Near Vijay Nagar Hall, Koldongri'\u001b[0m\u001b[1;33m,\u001b[0m \u001b[1;34mu'inventory_amenities_has_servant_room'\u001b[0m\u001b[1;33m:\u001b[0m \u001b[0mFalse\u001b[0m\u001b[1;33m,\u001b[0m \u001b[1;34mu'id'\u001b[0m\u001b[1;33m:\u001b[0m \u001b[1;36m801351\u001b[0m\u001b[1;33m,\u001b[0m \u001b[1;34mu'polygon_uuids_5'\u001b[0m\u001b[1;33m:\u001b[0m \u001b[1;34mu'3ac369d17698a4149caa'\u001b[0m\u001b[1;33m,\u001b[0m \u001b[1;34mu'polygons_hash_neighbourhood_uuid'\u001b[0m\u001b[1;33m:\u001b[0m \u001b[0mNone\u001b[0m\u001b[1;33m,\u001b[0m \u001b[1;34mu'polygon_uuids_7'\u001b[0m\u001b[1;33m:\u001b[0m \u001b[1;34mu'7318a08bb6570a26e893'\u001b[0m\u001b[1;33m,\u001b[0m \u001b[1;34mu'polygon_uuids_6'\u001b[0m\u001b[1;33m:\u001b[0m \u001b[1;34mu'a0fd32816f73961748cf'\u001b[0m\u001b[1;33m,\u001b[0m \u001b[1;34mu'polygon_uuids_1'\u001b[0m\u001b[1;33m:\u001b[0m \u001b[1;34mu'7d7e7ce92514320c5102'\u001b[0m\u001b[1;33m,\u001b[0m \u001b[1;34mu'polygon_uuids_0'\u001b[0m\u001b[1;33m:\u001b[0m \u001b[1;34mu'5f40a5d81efb8d0f3d07'\u001b[0m\u001b[1;33m,\u001b[0m \u001b[1;34mu'polygon_uuids_3'\u001b[0m\u001b[1;33m:\u001b[0m \u001b[1;34mu'd135fb588e8bb80e1fa2'\u001b[0m\u001b[1;33m,\u001b[0m \u001b[1;34mu'polygon_uuids_2'\u001b[0m\u001b[1;33m:\u001b[0m \u001b[1;34mu'f7f5d7f50dde9452144e'\u001b[0m\u001b[1;33m,\u001b[0m \u001b[1;34mu'polygon_uuids_9'\u001b[0m\u001b[1;33m:\u001b[0m \u001b[1;34mu'1ca99c33e3d8b987ccf1'\u001b[0m\u001b[1;33m,\u001b[0m \u001b[1;34mu'polygon_uuids_8'\u001b[0m\u001b[1;33m:\u001b[0m \u001b[1;34mu'82b2a9c2e9b437c9ffdc'\u001b[0m\u001b[1;33m,\u001b[0m \u001b[1;34mu'developer_name'\u001b[0m\u001b[1;33m:\u001b[0m \u001b[1;34mu''\u001b[0m\u001b[1;33m,\u001b[0m \u001b[1;34mu'slot_id'\u001b[0m\u001b[1;33m:\u001b[0m \u001b[0mNone\u001b[0m\u001b[1;33m,\u001b[0m \u001b[1;34mu'featured_type'\u001b[0m\u001b[1;33m:\u001b[0m \u001b[1;34mu'locality'\u001b[0m\u001b[1;33m,\u001b[0m \u001b[1;34mu'status'\u001b[0m\u001b[1;33m:\u001b[0m \u001b[1;34mu'ACTIVE'\u001b[0m\u001b[1;33m,\u001b[0m \u001b[1;34mu'inventory_amenities_has_swimming_pool'\u001b[0m\u001b[1;33m:\u001b[0m \u001b[0mFalse\u001b[0m\u001b[1;33m,\u001b[0m \u001b[1;34mu'polygons_hash_h_district_uuid'\u001b[0m\u001b[1;33m:\u001b[0m \u001b[0mNone\u001b[0m\u001b[1;33m,\u001b[0m \u001b[1;34mu'polygons_hash_sublocality_name'\u001b[0m\u001b[1;33m:\u001b[0m \u001b[1;34mu'Koldongri'\u001b[0m\u001b[1;33m,\u001b[0m \u001b[1;34mu'price'\u001b[0m\u001b[1;33m:\u001b[0m \u001b[1;36m31400000\u001b[0m\u001b[1;33m,\u001b[0m \u001b[1;34mu'polygons_hash_locality_name'\u001b[0m\u001b[1;33m:\u001b[0m \u001b[1;34mu'Andheri East'\u001b[0m\u001b[1;33m,\u001b[0m \u001b[1;34mu'contact_persons_info_0_contact_person_id'\u001b[0m\u001b[1;33m:\u001b[0m \u001b[1;36m1\u001b[0m\u001b[1;33m,\u001b[0m \u001b[1;34mu'sellers_info_0_chat_enabled'\u001b[0m\u001b[1;33m:\u001b[0m \u001b[0mNone\u001b[0m\u001b[1;33m,\u001b[0m \u001b[1;34mu'contact_persons_info_0_name'\u001b[0m\u001b[1;33m:\u001b[0m \u001b[1;34mu'Shamim'\u001b[0m\u001b[1;33m,\u001b[0m \u001b[1;34mu'inventory_amenities_has_parking'\u001b[0m\u001b[1;33m:\u001b[0m \u001b[0mTrue\u001b[0m\u001b[1;33m,\u001b[0m \u001b[1;34mu'inventory_configs_0_facing'\u001b[0m\u001b[1;33m:\u001b[0m \u001b[1;34mu'north-east'\u001b[0m\u001b[1;33m,\u001b[0m \u001b[1;34mu'_id'\u001b[0m\u001b[1;33m:\u001b[0m \u001b[1;34mu'801351_resale'\u001b[0m\u001b[1;33m,\u001b[0m \u001b[1;34mu'max_price'\u001b[0m\u001b[1;33m:\u001b[0m \u001b[1;36m31400000\u001b[0m\u001b[1;33m,\u001b[0m \u001b[1;34mu'sellers_info_0_uuid'\u001b[0m\u001b[1;33m:\u001b[0m \u001b[1;34mu'1deaa223-bbbd-4fa9-9ed9-aa4bab7484bb'\u001b[0m\u001b[1;33m}\u001b[0m\u001b[1;33m)\u001b[0m\u001b[1;33m\u001b[0m\u001b[0m\n\u001b[0m",
      "\u001b[0;32mc:\\Users\\Fibinse\\Anaconda2\\lib\\site-packages\\pandas\\core\\frame.pyc\u001b[0m in \u001b[0;36m__init__\u001b[0;34m(self, data, index, columns, dtype, copy)\u001b[0m\n\u001b[1;32m    264\u001b[0m                                  dtype=dtype, copy=copy)\n\u001b[1;32m    265\u001b[0m         \u001b[1;32melif\u001b[0m \u001b[0misinstance\u001b[0m\u001b[1;33m(\u001b[0m\u001b[0mdata\u001b[0m\u001b[1;33m,\u001b[0m \u001b[0mdict\u001b[0m\u001b[1;33m)\u001b[0m\u001b[1;33m:\u001b[0m\u001b[1;33m\u001b[0m\u001b[0m\n\u001b[0;32m--> 266\u001b[0;31m             \u001b[0mmgr\u001b[0m \u001b[1;33m=\u001b[0m \u001b[0mself\u001b[0m\u001b[1;33m.\u001b[0m\u001b[0m_init_dict\u001b[0m\u001b[1;33m(\u001b[0m\u001b[0mdata\u001b[0m\u001b[1;33m,\u001b[0m \u001b[0mindex\u001b[0m\u001b[1;33m,\u001b[0m \u001b[0mcolumns\u001b[0m\u001b[1;33m,\u001b[0m \u001b[0mdtype\u001b[0m\u001b[1;33m=\u001b[0m\u001b[0mdtype\u001b[0m\u001b[1;33m)\u001b[0m\u001b[1;33m\u001b[0m\u001b[0m\n\u001b[0m\u001b[1;32m    267\u001b[0m         \u001b[1;32melif\u001b[0m \u001b[0misinstance\u001b[0m\u001b[1;33m(\u001b[0m\u001b[0mdata\u001b[0m\u001b[1;33m,\u001b[0m \u001b[0mma\u001b[0m\u001b[1;33m.\u001b[0m\u001b[0mMaskedArray\u001b[0m\u001b[1;33m)\u001b[0m\u001b[1;33m:\u001b[0m\u001b[1;33m\u001b[0m\u001b[0m\n\u001b[1;32m    268\u001b[0m             \u001b[1;32mimport\u001b[0m \u001b[0mnumpy\u001b[0m\u001b[1;33m.\u001b[0m\u001b[0mma\u001b[0m\u001b[1;33m.\u001b[0m\u001b[0mmrecords\u001b[0m \u001b[1;32mas\u001b[0m \u001b[0mmrecords\u001b[0m\u001b[1;33m\u001b[0m\u001b[0m\n",
      "\u001b[0;32mc:\\Users\\Fibinse\\Anaconda2\\lib\\site-packages\\pandas\\core\\frame.pyc\u001b[0m in \u001b[0;36m_init_dict\u001b[0;34m(self, data, index, columns, dtype)\u001b[0m\n\u001b[1;32m    400\u001b[0m             \u001b[0marrays\u001b[0m \u001b[1;33m=\u001b[0m \u001b[1;33m[\u001b[0m\u001b[0mdata\u001b[0m\u001b[1;33m[\u001b[0m\u001b[0mk\u001b[0m\u001b[1;33m]\u001b[0m \u001b[1;32mfor\u001b[0m \u001b[0mk\u001b[0m \u001b[1;32min\u001b[0m \u001b[0mkeys\u001b[0m\u001b[1;33m]\u001b[0m\u001b[1;33m\u001b[0m\u001b[0m\n\u001b[1;32m    401\u001b[0m \u001b[1;33m\u001b[0m\u001b[0m\n\u001b[0;32m--> 402\u001b[0;31m         \u001b[1;32mreturn\u001b[0m \u001b[0m_arrays_to_mgr\u001b[0m\u001b[1;33m(\u001b[0m\u001b[0marrays\u001b[0m\u001b[1;33m,\u001b[0m \u001b[0mdata_names\u001b[0m\u001b[1;33m,\u001b[0m \u001b[0mindex\u001b[0m\u001b[1;33m,\u001b[0m \u001b[0mcolumns\u001b[0m\u001b[1;33m,\u001b[0m \u001b[0mdtype\u001b[0m\u001b[1;33m=\u001b[0m\u001b[0mdtype\u001b[0m\u001b[1;33m)\u001b[0m\u001b[1;33m\u001b[0m\u001b[0m\n\u001b[0m\u001b[1;32m    403\u001b[0m \u001b[1;33m\u001b[0m\u001b[0m\n\u001b[1;32m    404\u001b[0m     \u001b[1;32mdef\u001b[0m \u001b[0m_init_ndarray\u001b[0m\u001b[1;33m(\u001b[0m\u001b[0mself\u001b[0m\u001b[1;33m,\u001b[0m \u001b[0mvalues\u001b[0m\u001b[1;33m,\u001b[0m \u001b[0mindex\u001b[0m\u001b[1;33m,\u001b[0m \u001b[0mcolumns\u001b[0m\u001b[1;33m,\u001b[0m \u001b[0mdtype\u001b[0m\u001b[1;33m=\u001b[0m\u001b[0mNone\u001b[0m\u001b[1;33m,\u001b[0m \u001b[0mcopy\u001b[0m\u001b[1;33m=\u001b[0m\u001b[0mFalse\u001b[0m\u001b[1;33m)\u001b[0m\u001b[1;33m:\u001b[0m\u001b[1;33m\u001b[0m\u001b[0m\n",
      "\u001b[0;32mc:\\Users\\Fibinse\\Anaconda2\\lib\\site-packages\\pandas\\core\\frame.pyc\u001b[0m in \u001b[0;36m_arrays_to_mgr\u001b[0;34m(arrays, arr_names, index, columns, dtype)\u001b[0m\n\u001b[1;32m   5396\u001b[0m     \u001b[1;31m# figure out the index, if necessary\u001b[0m\u001b[1;33m\u001b[0m\u001b[1;33m\u001b[0m\u001b[0m\n\u001b[1;32m   5397\u001b[0m     \u001b[1;32mif\u001b[0m \u001b[0mindex\u001b[0m \u001b[1;32mis\u001b[0m \u001b[0mNone\u001b[0m\u001b[1;33m:\u001b[0m\u001b[1;33m\u001b[0m\u001b[0m\n\u001b[0;32m-> 5398\u001b[0;31m         \u001b[0mindex\u001b[0m \u001b[1;33m=\u001b[0m \u001b[0mextract_index\u001b[0m\u001b[1;33m(\u001b[0m\u001b[0marrays\u001b[0m\u001b[1;33m)\u001b[0m\u001b[1;33m\u001b[0m\u001b[0m\n\u001b[0m\u001b[1;32m   5399\u001b[0m     \u001b[1;32melse\u001b[0m\u001b[1;33m:\u001b[0m\u001b[1;33m\u001b[0m\u001b[0m\n\u001b[1;32m   5400\u001b[0m         \u001b[0mindex\u001b[0m \u001b[1;33m=\u001b[0m \u001b[0m_ensure_index\u001b[0m\u001b[1;33m(\u001b[0m\u001b[0mindex\u001b[0m\u001b[1;33m)\u001b[0m\u001b[1;33m\u001b[0m\u001b[0m\n",
      "\u001b[0;32mc:\\Users\\Fibinse\\Anaconda2\\lib\\site-packages\\pandas\\core\\frame.pyc\u001b[0m in \u001b[0;36mextract_index\u001b[0;34m(data)\u001b[0m\n\u001b[1;32m   5435\u001b[0m \u001b[1;33m\u001b[0m\u001b[0m\n\u001b[1;32m   5436\u001b[0m         \u001b[1;32mif\u001b[0m \u001b[1;32mnot\u001b[0m \u001b[0mindexes\u001b[0m \u001b[1;32mand\u001b[0m \u001b[1;32mnot\u001b[0m \u001b[0mraw_lengths\u001b[0m\u001b[1;33m:\u001b[0m\u001b[1;33m\u001b[0m\u001b[0m\n\u001b[0;32m-> 5437\u001b[0;31m             raise ValueError('If using all scalar values, you must pass'\n\u001b[0m\u001b[1;32m   5438\u001b[0m                              ' an index')\n\u001b[1;32m   5439\u001b[0m \u001b[1;33m\u001b[0m\u001b[0m\n",
      "\u001b[0;31mValueError\u001b[0m: If using all scalar values, you must pass an index"
     ]
    }
   ],
   "source": [
    "df = pd.DataFrame({u'inventory_configs_0_apartment_type_id': 4, u'polygons_hash_h_district_name': None, u'parking_count': 1, u'polygons_hash_state_uuid': u'82b2a9c2e9b437c9ffdc', u'inventory_configs_0_property_type_id': 1, u'sellers_info_0_is_blocked': False, u'title': u'3 BHK Apartment', u'contact_persons_info_0_chat_enabled': None, u'polygons_hash_housing_region_uuid': u'd135fb588e8bb80e1fa2', u'polygons_hash_neighbourhood_name': None, u'contact_persons_info_0_profile_picture_url': u'https://housing.com/mystery-man.png', u'min_price': 31400000, u'contact_persons_info_0_is_blocked': False, u'inventory_configs_0_completion_date': 1425578517, u'inventory_configs_0_seller_0': 1, u'inventory_configs_0_area': 1850, u'sellers_info_0_name': u'Shamim', u'date_added': u'2016-03-04T23:31:57Z', u'inventory_configs_0_number_of_bedrooms': 3, u'sellers_info_0_contact_person_id': 1, u'sellers_info_0_profile_uuid': u'1deaa223-bbbd-4fa9-9ed9-aa4bab7484bb', u'polygons_hash_city_uuid': u'1ca99c33e3d8b987ccf1', u'display_locality_1': u'Andheri East', u'display_locality_0': u'Koldongri', u'formatted_min_price': u'3.14 Cr', u'inventory_canonical_url': u'/in/buy/resale/page/801351-3-bhk-apartment-in-andheri-east-for-rs-31400000', u'completion_date': 1425578517, u'impressions': 507, u'inventory_amenities_has_gym': True, u'building_name': u'Shivam Centrium', u'price_on_request': False, u'display_neighbourhood_0': u'Andheri East', u'display_neighbourhood_1': u'Koldongri', u'inventory_configs_0_price': 31400000, u'formatted_per_sqft_rate': u'16.97 k', u'inventory_amenities_has_gas_pipeline': True, u'polygons_hash_city_name': u'Mumbai', u'inventory_configs_0_number_of_toilets': 3, u'is_blocked': False, u'polygons_hash_housing_state_name': None, u'is_ad_property': None, u'inventory_configs_0_flat_config_id': 801351, u'sellers_info_0_profile_picture_url': u'https://housing.com/mystery-man.png', u'polygons_hash_housing_state_uuid': None, u'polygons_hash_state_name': u'Maharashtra', u'is_featured': False, u'is_uc_property': False, u'sellers_info_0_profile_url': u'1180304_shamim', u'building_uuid': u'31ebb4a552', u'polygons_hash_region_uuid': u'7318a08bb6570a26e893', u'date_added_in_seconds': 1457114517.294, u'thumb_image_url': u'https://is1-3.housingcdn.com/01c16c28/7e99a9651a8a14f421b3a16f341ca69c/v2/version.jpg', u'city_select_uuid_0': u'a0fd32816f73961748cf', u'inventory_configs_0_per_sqft_rate': 16972, u'contact_persons_info_0_profile_uuid': u'1deaa223-bbbd-4fa9-9ed9-aa4bab7484bb', u'inventory_configs_0_parking_count': 1, u'formatted_price': u'3.14 Cr', u'show_loan_option': True, u'type': u'resale', u'inventory_configs_0_id': 801351, u'contact_persons_info_0_profile_url': u'1180304_shamim', u'polygon_uuids_4': u'c81936bdf7593bb711dc', u'inventory_configs_0_is_available': True, u'inventory_configs_0_price_on_request': False, u'contact_persons_info_0_uuid': u'1deaa223-bbbd-4fa9-9ed9-aa4bab7484bb', u'inventory_amenities_has_lift': True, u'polygons_hash_housing_region_name': u'Western Suburbs', u'ctr': 0.04, u'location_coordinates': u'19.11288,72.848559', u'inventory_configs_0_formatted_price': u'3.14 Cr', u'formatted_max_price': u'3.14 Cr', u'polygons_hash_region_name': u'Mumbai Metropolitan Region', u'polygons_hash_locality_uuid': u'7d7e7ce92514320c5102', u'polygons_hash_sublocality_uuid': u'5f40a5d81efb8d0f3d07', u'inventory_amenities_is_gated_community': True, u'updated_at': 1488010088, u'street_info': u'Sahar Road, Near Vijay Nagar Hall, Koldongri', u'inventory_amenities_has_servant_room': False, u'id': 801351, u'polygon_uuids_5': u'3ac369d17698a4149caa', u'polygons_hash_neighbourhood_uuid': None, u'polygon_uuids_7': u'7318a08bb6570a26e893', u'polygon_uuids_6': u'a0fd32816f73961748cf', u'polygon_uuids_1': u'7d7e7ce92514320c5102', u'polygon_uuids_0': u'5f40a5d81efb8d0f3d07', u'polygon_uuids_3': u'd135fb588e8bb80e1fa2', u'polygon_uuids_2': u'f7f5d7f50dde9452144e', u'polygon_uuids_9': u'1ca99c33e3d8b987ccf1', u'polygon_uuids_8': u'82b2a9c2e9b437c9ffdc', u'developer_name': u'', u'slot_id': None, u'featured_type': u'locality', u'status': u'ACTIVE', u'inventory_amenities_has_swimming_pool': False, u'polygons_hash_h_district_uuid': None, u'polygons_hash_sublocality_name': u'Koldongri', u'price': 31400000, u'polygons_hash_locality_name': u'Andheri East', u'contact_persons_info_0_contact_person_id': 1, u'sellers_info_0_chat_enabled': None, u'contact_persons_info_0_name': u'Shamim', u'inventory_amenities_has_parking': True, u'inventory_configs_0_facing': u'north-east', u'_id': u'801351_resale', u'max_price': 31400000, u'sellers_info_0_uuid': u'1deaa223-bbbd-4fa9-9ed9-aa4bab7484bb'})"
   ]
  },
  {
   "cell_type": "code",
   "execution_count": 8,
   "metadata": {
    "collapsed": true
   },
   "outputs": [],
   "source": [
    "pd.concat?"
   ]
  },
  {
   "cell_type": "code",
   "execution_count": null,
   "metadata": {
    "collapsed": true
   },
   "outputs": [],
   "source": []
  }
 ],
 "metadata": {
  "anaconda-cloud": {},
  "kernelspec": {
   "display_name": "Python [conda root]",
   "language": "python",
   "name": "conda-root-py"
  },
  "language_info": {
   "codemirror_mode": {
    "name": "ipython",
    "version": 2
   },
   "file_extension": ".py",
   "mimetype": "text/x-python",
   "name": "python",
   "nbconvert_exporter": "python",
   "pygments_lexer": "ipython2",
   "version": "2.7.12"
  }
 },
 "nbformat": 4,
 "nbformat_minor": 1
}
